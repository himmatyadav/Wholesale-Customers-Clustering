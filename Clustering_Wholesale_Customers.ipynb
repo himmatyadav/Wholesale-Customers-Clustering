{
 "cells": [
  {
   "cell_type": "code",
   "execution_count": 76,
   "metadata": {
    "colab": {
     "base_uri": "https://localhost:8080/",
     "height": 52
    },
    "colab_type": "code",
    "executionInfo": {
     "elapsed": 767,
     "status": "ok",
     "timestamp": 1575263760563,
     "user": {
      "displayName": "Ishani Udaykant Shah",
      "photoUrl": "",
      "userId": "12064188275187263360"
     },
     "user_tz": 420
    },
    "id": "wDBzrJ8iezEl",
    "outputId": "3948652e-a44a-4b5b-cd00-a9bb1a154a47"
   },
   "outputs": [
    {
     "name": "stdout",
     "output_type": "stream",
     "text": [
      "Drive already mounted at /gdrive; to attempt to forcibly remount, call drive.mount(\"/gdrive\", force_remount=True).\n",
      "/gdrive\n"
     ]
    }
   ],
   "source": [
    "import pandas as pd\n",
    "import numpy as np\n",
    "\n",
    "from sklearn.cluster import KMeans\n",
    "# Calculate silhouette_score\n",
    "from sklearn.metrics import silhouette_score\n",
    "from sklearn.preprocessing import MinMaxScaler\n",
    "from sklearn import metrics\n",
    "from sklearn.model_selection import RandomizedSearchCV\n",
    "\n",
    "import matplotlib.pyplot as plt\n",
    "\n",
    "import warnings\n",
    "warnings.filterwarnings(\"ignore\")\n",
    "\n",
    "from google.colab import drive\n",
    "drive.mount('/gdrive')\n",
    "#Change current working directory to gdrive\n",
    "%cd /gdrive"
   ]
  },
  {
   "cell_type": "code",
   "execution_count": 77,
   "metadata": {
    "colab": {
     "base_uri": "https://localhost:8080/",
     "height": 295
    },
    "colab_type": "code",
    "executionInfo": {
     "elapsed": 1060,
     "status": "ok",
     "timestamp": 1575263760874,
     "user": {
      "displayName": "Ishani Udaykant Shah",
      "photoUrl": "",
      "userId": "12064188275187263360"
     },
     "user_tz": 420
    },
    "id": "_EKIHjKGgma0",
    "outputId": "760d7fb9-9b03-42ff-9d4e-e989f077b2e7"
   },
   "outputs": [
    {
     "name": "stdout",
     "output_type": "stream",
     "text": [
      "(440, 8)\n",
      "Channel             int64\n",
      "Region              int64\n",
      "Fresh               int64\n",
      "Milk                int64\n",
      "Grocery             int64\n",
      "Frozen              int64\n",
      "Detergents_Paper    int64\n",
      "Delicassen          int64\n",
      "dtype: object\n",
      "   Channel  Region  Fresh  Milk  Grocery  Frozen  Detergents_Paper  Delicassen\n",
      "0        2       3  12669  9656     7561     214              2674        1338\n",
      "1        2       3   7057  9810     9568    1762              3293        1776\n",
      "2        2       3   6353  8808     7684    2405              3516        7844\n",
      "3        1       3  13265  1196     4221    6404               507        1788\n",
      "4        2       3  22615  5410     7198    3915              1777        5185\n"
     ]
    }
   ],
   "source": [
    "#Read files\n",
    "trainfile = r'/gdrive/My Drive/ClusterDataset/Wholesale customers data.csv'\n",
    "trainData = pd.read_csv(trainfile) #creates a dataframe\n",
    "\n",
    "print(trainData.shape)\n",
    "print(trainData.dtypes)\n",
    "print(trainData.head())\n"
   ]
  },
  {
   "cell_type": "code",
   "execution_count": 78,
   "metadata": {
    "colab": {
     "base_uri": "https://localhost:8080/",
     "height": 260
    },
    "colab_type": "code",
    "executionInfo": {
     "elapsed": 1043,
     "status": "ok",
     "timestamp": 1575263760876,
     "user": {
      "displayName": "Ishani Udaykant Shah",
      "photoUrl": "",
      "userId": "12064188275187263360"
     },
     "user_tz": 420
    },
    "id": "O6H8qQ0yiRB9",
    "outputId": "caecd473-fdc0-4717-a1ec-84619fce958b"
   },
   "outputs": [
    {
     "name": "stdout",
     "output_type": "stream",
     "text": [
      "(440, 6)\n",
      "Fresh               int64\n",
      "Milk                int64\n",
      "Grocery             int64\n",
      "Frozen              int64\n",
      "Detergents_Paper    int64\n",
      "Delicassen          int64\n",
      "dtype: object\n",
      "   Fresh  Milk  Grocery  Frozen  Detergents_Paper  Delicassen\n",
      "0  12669  9656     7561     214              2674        1338\n",
      "1   7057  9810     9568    1762              3293        1776\n",
      "2   6353  8808     7684    2405              3516        7844\n",
      "3  13265  1196     4221    6404               507        1788\n",
      "4  22615  5410     7198    3915              1777        5185\n"
     ]
    }
   ],
   "source": [
    "X_train=trainData.iloc[:,2:].copy()\n",
    "print(X_train.shape)\n",
    "print(X_train.dtypes)\n",
    "print(X_train.head())"
   ]
  },
  {
   "cell_type": "markdown",
   "metadata": {
    "colab_type": "text",
    "id": "eVn8UyIWhEfh"
   },
   "source": [
    "***Method1: Default K-Means Clustering***"
   ]
  },
  {
   "cell_type": "code",
   "execution_count": 79,
   "metadata": {
    "colab": {
     "base_uri": "https://localhost:8080/",
     "height": 399
    },
    "colab_type": "code",
    "executionInfo": {
     "elapsed": 1030,
     "status": "ok",
     "timestamp": 1575263760878,
     "user": {
      "displayName": "Ishani Udaykant Shah",
      "photoUrl": "",
      "userId": "12064188275187263360"
     },
     "user_tz": 420
    },
    "id": "NZnw9mNZj40L",
    "outputId": "a498bfff-278d-469a-f784-3904579da8d0"
   },
   "outputs": [
    {
     "name": "stdout",
     "output_type": "stream",
     "text": [
      "0.3417007664749802\n"
     ]
    },
    {
     "data": {
      "text/plain": [
       "array([1, 1, 1, 0, 0, 4, 4, 1, 4, 1, 1, 4, 0, 0, 0, 4, 1, 4, 0, 4, 0, 4,\n",
       "       0, 7, 0, 0, 4, 0, 2, 3, 0, 4, 0, 0, 4, 1, 0, 1, 1, 3, 0, 0, 1, 2,\n",
       "       1, 2, 2, 7, 1, 2, 4, 4, 3, 1, 0, 4, 2, 1, 4, 1, 4, 5, 4, 1, 4, 2,\n",
       "       4, 0, 4, 4, 0, 0, 4, 0, 1, 0, 4, 2, 4, 4, 4, 1, 1, 0, 4, 5, 7, 3,\n",
       "       4, 0, 4, 4, 2, 0, 1, 4, 4, 4, 4, 4, 1, 1, 1, 3, 0, 0, 1, 1, 1, 2,\n",
       "       4, 1, 0, 0, 0, 4, 4, 4, 0, 4, 0, 4, 4, 1, 3, 3, 0, 0, 4, 3, 4, 4,\n",
       "       0, 4, 4, 4, 1, 1, 0, 4, 0, 0, 3, 4, 0, 2, 4, 4, 4, 0, 0, 4, 0, 4,\n",
       "       4, 1, 1, 0, 1, 1, 1, 4, 0, 2, 1, 1, 1, 4, 4, 4, 1, 2, 4, 1, 4, 1,\n",
       "       3, 4, 4, 4, 4, 6, 1, 7, 4, 4, 4, 1, 1, 1, 0, 4, 4, 1, 4, 0, 3, 1,\n",
       "       4, 4, 2, 2, 0, 4, 4, 2, 4, 4, 4, 1, 0, 2, 4, 1, 1, 1, 2, 0, 1, 4,\n",
       "       0, 1, 4, 4, 4, 4, 0, 4, 4, 4, 4, 4, 0, 4, 0, 4, 4, 0, 4, 3, 0, 0,\n",
       "       0, 4, 1, 1, 4, 4, 0, 4, 4, 2, 4, 0, 1, 0, 4, 4, 3, 3, 4, 4, 0, 4,\n",
       "       1, 1, 1, 0, 1, 0, 4, 4, 1, 3, 4, 4, 0, 4, 4, 0, 4, 4, 3, 0, 3, 3,\n",
       "       4, 0, 0, 3, 4, 4, 4, 1, 0, 4, 0, 4, 1, 4, 0, 2, 1, 1, 2, 1, 2, 0,\n",
       "       4, 1, 4, 0, 1, 4, 4, 1, 4, 4, 4, 2, 4, 4, 0, 0, 0, 3, 4, 4, 0, 4,\n",
       "       4, 2, 0, 5, 0, 0, 4, 4, 4, 4, 1, 1, 4, 2, 4, 4, 1, 0, 4, 2, 4, 2,\n",
       "       4, 1, 0, 4, 0, 1, 1, 4, 0, 4, 4, 4, 4, 1, 4, 4, 0, 4, 3, 0, 4, 0,\n",
       "       4, 4, 1, 3, 4, 1, 0, 0, 3, 4, 1, 4, 4, 0, 4, 4, 4, 4, 4, 0, 4, 4,\n",
       "       1, 4, 4, 4, 4, 0, 0, 0, 0, 4, 0, 1, 4, 4, 4, 4, 1, 4, 4, 1, 1, 1,\n",
       "       1, 4, 1, 0, 0, 0, 0, 4, 1, 3, 4, 4, 1, 4, 0, 4, 0, 0, 3, 2, 4, 4],\n",
       "      dtype=int32)"
      ]
     },
     "execution_count": 79,
     "metadata": {
      "tags": []
     },
     "output_type": "execute_result"
    }
   ],
   "source": [
    "#K-Means Clustering ========================================================================\n",
    "#Default Mode - K=8\n",
    "kmeans = KMeans()\n",
    "kmeans.fit(X_train)\n",
    "\n",
    "#kmeans.cluster_centers_\n",
    "#Print Silhouette measure\n",
    "print(silhouette_score(X_train, kmeans.labels_))\n",
    "kmeans.labels_\n",
    "\n"
   ]
  },
  {
   "cell_type": "code",
   "execution_count": 80,
   "metadata": {
    "colab": {
     "base_uri": "https://localhost:8080/",
     "height": 35
    },
    "colab_type": "code",
    "executionInfo": {
     "elapsed": 1020,
     "status": "ok",
     "timestamp": 1575263760879,
     "user": {
      "displayName": "Ishani Udaykant Shah",
      "photoUrl": "",
      "userId": "12064188275187263360"
     },
     "user_tz": 420
    },
    "id": "EyG9B_AU7gzs",
    "outputId": "bf60f1e6-0985-4ed9-dcdc-dbf5e72854f2"
   },
   "outputs": [
    {
     "name": "stdout",
     "output_type": "stream",
     "text": [
      "(440, 7)\n"
     ]
    }
   ],
   "source": [
    "#Add Cluster Number to each datapoint + save file\n",
    "df_kmeans=X_train\n",
    "kmeans_predict_train=kmeans.predict(X_train)\n",
    "\n",
    "df_kmeans['Cluster Number']=kmeans_predict_train\n",
    "print(df_kmeans.shape)\n",
    "df_kmeans.head()\n",
    "df_kmeans.dtypes\n",
    "\n",
    "export_csv = df_kmeans.to_csv(r'/gdrive/My Drive/ClusterDataset/Results/WholesaleCustomersResultsA.csv')"
   ]
  },
  {
   "cell_type": "markdown",
   "metadata": {
    "colab_type": "text",
    "id": "SjGzAB6O_9RQ"
   },
   "source": [
    "***Method2: K-Means using RandomizedSearch tuning of hyperparameters - best***"
   ]
  },
  {
   "cell_type": "code",
   "execution_count": 81,
   "metadata": {
    "colab": {
     "base_uri": "https://localhost:8080/",
     "height": 35
    },
    "colab_type": "code",
    "executionInfo": {
     "elapsed": 3768,
     "status": "ok",
     "timestamp": 1575263763646,
     "user": {
      "displayName": "Ishani Udaykant Shah",
      "photoUrl": "",
      "userId": "12064188275187263360"
     },
     "user_tz": 420
    },
    "id": "vHI4c6VV_9Q7",
    "outputId": "d6044cb5-ae9a-42e4-9681-e790579abe8d"
   },
   "outputs": [
    {
     "name": "stdout",
     "output_type": "stream",
     "text": [
      "{'n_init': 22, 'n_clusters': 3, 'max_iter': 671, 'init': 'random', 'algorithm': 'elkan'}\n"
     ]
    }
   ],
   "source": [
    "#Hyperparameter tuning done for K Means\n",
    "kmeans = KMeans()\n",
    "parameters={\n",
    "    'n_clusters': range(1,4,1),\n",
    "    'init': ['k-means++', 'random'],\n",
    "    'max_iter': range(1,800,10),\n",
    "    'n_init': range(1,30,1),\n",
    "    'algorithm': ['auto', 'full','elkan']\n",
    "    }\n",
    "kmeans = RandomizedSearchCV(kmeans,parameters,n_iter=15)\n",
    "kmeans.fit(X_train)\n",
    "grid_parm_kmeans=kmeans.best_params_\n",
    "print(grid_parm_kmeans)"
   ]
  },
  {
   "cell_type": "code",
   "execution_count": 82,
   "metadata": {
    "colab": {
     "base_uri": "https://localhost:8080/",
     "height": 52
    },
    "colab_type": "code",
    "executionInfo": {
     "elapsed": 3751,
     "status": "ok",
     "timestamp": 1575263763648,
     "user": {
      "displayName": "Ishani Udaykant Shah",
      "photoUrl": "",
      "userId": "12064188275187263360"
     },
     "user_tz": 420
    },
    "id": "hZLT3Umk_9Qi",
    "outputId": "7c4011c9-1f3b-40a5-fd5a-a42e30dc3e68"
   },
   "outputs": [
    {
     "name": "stdout",
     "output_type": "stream",
     "text": [
      "(440, 7)\n",
      "0.4783511375292279\n"
     ]
    }
   ],
   "source": [
    "#K-Means Clustering after Hypertuning ========================================================================\n",
    "\n",
    "kmeans = KMeans(**grid_parm_kmeans)\n",
    "kmeans.fit(X_train)\n",
    "kmeans.labels_\n",
    "\n",
    "print(X_train.shape)\n",
    "\n",
    "print(silhouette_score(X_train, kmeans.labels_))"
   ]
  },
  {
   "cell_type": "code",
   "execution_count": 83,
   "metadata": {
    "colab": {
     "base_uri": "https://localhost:8080/",
     "height": 35
    },
    "colab_type": "code",
    "executionInfo": {
     "elapsed": 3739,
     "status": "ok",
     "timestamp": 1575263763650,
     "user": {
      "displayName": "Ishani Udaykant Shah",
      "photoUrl": "",
      "userId": "12064188275187263360"
     },
     "user_tz": 420
    },
    "id": "ITeFqUQr_9QM",
    "outputId": "f080e3d0-4df2-4194-ace8-af0d5eed918a"
   },
   "outputs": [
    {
     "name": "stdout",
     "output_type": "stream",
     "text": [
      "(440, 7)\n"
     ]
    }
   ],
   "source": [
    "#Add Cluster Number to each datapoint + save file\n",
    "df_kmeans=X_train\n",
    "kmeans_predict_train=kmeans.predict(X_train)\n",
    "\n",
    "df_kmeans['Cluster Number']=kmeans_predict_train\n",
    "print(df_kmeans.shape)\n",
    "df_kmeans.head()\n",
    "df_kmeans.dtypes\n",
    "\n",
    "export_csv = df_kmeans.to_csv(r'/gdrive/My Drive/ClusterDataset/Results/WholesaleCustomersResultsB-Randomize.csv')"
   ]
  },
  {
   "cell_type": "markdown",
   "metadata": {
    "colab_type": "text",
    "id": "LMNtX2XliwHf"
   },
   "source": [
    "***Method3: K-Means using manual tuning of hyperparameters - optional***"
   ]
  },
  {
   "cell_type": "code",
   "execution_count": 84,
   "metadata": {
    "colab": {
     "base_uri": "https://localhost:8080/",
     "height": 399
    },
    "colab_type": "code",
    "executionInfo": {
     "elapsed": 3723,
     "status": "ok",
     "timestamp": 1575263763652,
     "user": {
      "displayName": "Ishani Udaykant Shah",
      "photoUrl": "",
      "userId": "12064188275187263360"
     },
     "user_tz": 420
    },
    "id": "Y4MjrdvTAD8H",
    "outputId": "ede2a407-f166-4520-e641-ee4009532319"
   },
   "outputs": [
    {
     "name": "stdout",
     "output_type": "stream",
     "text": [
      "0.4783511435929511\n"
     ]
    },
    {
     "data": {
      "text/plain": [
       "array([1, 1, 1, 1, 2, 1, 1, 1, 1, 0, 1, 1, 2, 1, 2, 1, 1, 1, 1, 1, 1, 1,\n",
       "       2, 0, 2, 1, 1, 1, 0, 2, 1, 1, 1, 2, 1, 1, 2, 1, 0, 2, 2, 1, 1, 0,\n",
       "       1, 0, 0, 0, 1, 0, 1, 1, 2, 1, 2, 1, 0, 1, 1, 1, 1, 0, 1, 1, 1, 0,\n",
       "       1, 1, 1, 1, 1, 1, 1, 1, 1, 1, 1, 0, 1, 1, 1, 1, 1, 1, 1, 0, 0, 2,\n",
       "       1, 2, 1, 1, 0, 1, 1, 1, 1, 1, 1, 1, 1, 1, 1, 2, 1, 1, 1, 1, 1, 0,\n",
       "       1, 0, 1, 1, 1, 1, 1, 1, 1, 1, 1, 1, 1, 1, 2, 2, 1, 1, 1, 2, 1, 1,\n",
       "       1, 1, 1, 1, 1, 1, 1, 1, 1, 2, 2, 1, 1, 0, 1, 1, 1, 2, 1, 1, 1, 1,\n",
       "       1, 0, 1, 1, 1, 1, 1, 1, 1, 0, 1, 0, 1, 1, 1, 1, 1, 0, 1, 0, 1, 1,\n",
       "       2, 1, 1, 1, 1, 2, 1, 2, 1, 1, 1, 1, 1, 1, 1, 1, 1, 1, 1, 1, 2, 1,\n",
       "       1, 1, 0, 0, 2, 1, 1, 0, 1, 1, 1, 0, 1, 0, 1, 1, 1, 1, 0, 1, 1, 1,\n",
       "       1, 1, 1, 1, 1, 1, 1, 1, 1, 1, 1, 1, 2, 1, 1, 1, 1, 1, 1, 2, 2, 2,\n",
       "       1, 1, 1, 1, 1, 1, 1, 1, 1, 0, 1, 2, 1, 2, 1, 1, 2, 2, 1, 1, 2, 1,\n",
       "       1, 0, 0, 1, 0, 1, 1, 1, 1, 2, 1, 1, 2, 1, 1, 1, 1, 1, 2, 2, 2, 2,\n",
       "       1, 1, 1, 2, 1, 1, 1, 1, 1, 1, 1, 1, 1, 1, 1, 0, 1, 1, 0, 1, 0, 1,\n",
       "       1, 0, 1, 2, 0, 1, 1, 1, 1, 1, 1, 0, 1, 1, 1, 1, 2, 2, 1, 1, 1, 1,\n",
       "       1, 0, 1, 0, 1, 2, 1, 1, 1, 1, 1, 1, 1, 0, 1, 1, 1, 2, 1, 0, 1, 0,\n",
       "       1, 0, 1, 1, 1, 1, 1, 1, 1, 1, 1, 1, 1, 1, 1, 1, 1, 1, 2, 1, 1, 1,\n",
       "       1, 1, 1, 2, 1, 1, 2, 1, 2, 1, 0, 1, 1, 1, 1, 1, 1, 1, 1, 2, 1, 1,\n",
       "       1, 1, 1, 1, 1, 2, 2, 2, 1, 1, 2, 0, 1, 1, 1, 1, 1, 1, 1, 1, 1, 1,\n",
       "       0, 1, 1, 1, 2, 1, 1, 1, 1, 2, 1, 1, 1, 1, 1, 1, 1, 2, 2, 0, 1, 1],\n",
       "      dtype=int32)"
      ]
     },
     "execution_count": 84,
     "metadata": {
      "tags": []
     },
     "output_type": "execute_result"
    }
   ],
   "source": [
    "#K-Means Clustering ========================================================================\n",
    "#K=3\n",
    "kmeans = KMeans(n_clusters=3)\n",
    "kmeans.fit(X_train)\n",
    "\n",
    "#kmeans.cluster_centers_\n",
    "#Print Silhouette measure\n",
    "print(silhouette_score(X_train, kmeans.labels_))\n",
    "kmeans.labels_\n",
    "\n"
   ]
  },
  {
   "cell_type": "code",
   "execution_count": 85,
   "metadata": {
    "colab": {
     "base_uri": "https://localhost:8080/",
     "height": 35
    },
    "colab_type": "code",
    "executionInfo": {
     "elapsed": 3710,
     "status": "ok",
     "timestamp": 1575263763653,
     "user": {
      "displayName": "Ishani Udaykant Shah",
      "photoUrl": "",
      "userId": "12064188275187263360"
     },
     "user_tz": 420
    },
    "id": "MgS2zMQ-AD8O",
    "outputId": "b1d82617-1b45-4c15-d341-4ce7aff0fed2"
   },
   "outputs": [
    {
     "name": "stdout",
     "output_type": "stream",
     "text": [
      "(440, 7)\n"
     ]
    }
   ],
   "source": [
    "#Add Cluster Number to each datapoint + save file\n",
    "df_kmeans=X_train\n",
    "kmeans_predict_train=kmeans.predict(X_train)\n",
    "\n",
    "df_kmeans['Cluster Number']=kmeans_predict_train\n",
    "print(df_kmeans.shape)\n",
    "df_kmeans.head()\n",
    "df_kmeans.dtypes\n",
    "\n",
    "export_csv = df_kmeans.to_csv(r'/gdrive/My Drive/ClusterDataset/Results/WholesaleCustomersResultsB-Manual1.csv')"
   ]
  },
  {
   "cell_type": "code",
   "execution_count": 86,
   "metadata": {
    "colab": {
     "base_uri": "https://localhost:8080/",
     "height": 52
    },
    "colab_type": "code",
    "executionInfo": {
     "elapsed": 4003,
     "status": "ok",
     "timestamp": 1575263763958,
     "user": {
      "displayName": "Ishani Udaykant Shah",
      "photoUrl": "",
      "userId": "12064188275187263360"
     },
     "user_tz": 420
    },
    "id": "yNqbO6j23z4G",
    "outputId": "bd4c42a0-2a41-444d-c368-5d3e0868555b"
   },
   "outputs": [
    {
     "name": "stdout",
     "output_type": "stream",
     "text": [
      "(440, 7)\n",
      "0.4770179147393792\n"
     ]
    }
   ],
   "source": [
    "#K-Means Clustering hyper parameter tuning ========================================================================\n",
    "# K=3\n",
    "\n",
    "kmeans = KMeans(n_clusters=3, init='k-means++', n_init =10)\n",
    "kmeans.fit(X_train)\n",
    "kmeans.labels_\n",
    "#kmeans.cluster_centers_\n",
    "print(X_train.shape)\n",
    "#Print Silhouette measure\n",
    "print(silhouette_score(X_train, kmeans.labels_))"
   ]
  },
  {
   "cell_type": "code",
   "execution_count": 87,
   "metadata": {
    "colab": {
     "base_uri": "https://localhost:8080/",
     "height": 35
    },
    "colab_type": "code",
    "executionInfo": {
     "elapsed": 3992,
     "status": "ok",
     "timestamp": 1575263763960,
     "user": {
      "displayName": "Ishani Udaykant Shah",
      "photoUrl": "",
      "userId": "12064188275187263360"
     },
     "user_tz": 420
    },
    "id": "GQDwKN0I4PRz",
    "outputId": "441b21bc-03c5-470e-f6f0-84ef86f741b7"
   },
   "outputs": [
    {
     "name": "stdout",
     "output_type": "stream",
     "text": [
      "(440, 7)\n"
     ]
    }
   ],
   "source": [
    "#Add Cluster Number to each datapoint + save file\n",
    "df_kmeans=X_train\n",
    "kmeans_predict_train=kmeans.predict(X_train)\n",
    "\n",
    "df_kmeans['Cluster Number']=kmeans_predict_train\n",
    "print(df_kmeans.shape)\n",
    "df_kmeans.head()\n",
    "df_kmeans.dtypes\n",
    "\n",
    "export_csv = df_kmeans.to_csv(r'/gdrive/My Drive/ClusterDataset/Results/WholesaleCustomersResultsB-Manual2.csv')"
   ]
  }
 ],
 "metadata": {
  "colab": {
   "collapsed_sections": [],
   "name": "WholesaleCustomers_IS.ipynb",
   "provenance": []
  },
  "kernelspec": {
   "display_name": "Python 3",
   "language": "python",
   "name": "python3"
  },
  "language_info": {
   "codemirror_mode": {
    "name": "ipython",
    "version": 3
   },
   "file_extension": ".py",
   "mimetype": "text/x-python",
   "name": "python",
   "nbconvert_exporter": "python",
   "pygments_lexer": "ipython3",
   "version": "3.7.4"
  }
 },
 "nbformat": 4,
 "nbformat_minor": 1
}
